{
 "cells": [
  {
   "cell_type": "code",
   "execution_count": 1,
   "id": "6a930459-9e36-4f99-a9f4-fed526373a65",
   "metadata": {},
   "outputs": [],
   "source": [
    "import numpy as np\n",
    "import pandas as pd\n",
    "import matplotlib.pyplot as plt\n",
    "import seaborn as sns\n",
    "import plotly.graph_objects as go\n",
    "import plotly.express as px\n",
    "import warnings\n",
    "\n",
    "warnings.filterwarnings(\"ignore\")"
   ]
  },
  {
   "cell_type": "code",
   "execution_count": 2,
   "id": "5700ff32-957d-4a21-9082-9680c8783013",
   "metadata": {},
   "outputs": [],
   "source": [
    "# similar movies on the bases of\n",
    "\n",
    "# 0- overall\n",
    "# 1- scale (revenue and budget)\n",
    "# 2- story (genre and story)\n",
    "# 3- crew and cast\n",
    "\n",
    "\n",
    "# algos-\n",
    "# kmeans clustering\n",
    "# heireical clustering\n",
    "# dbscan"
   ]
  },
  {
   "cell_type": "markdown",
   "id": "9fc9d7cd-a721-4972-8f30-7599957ba47f",
   "metadata": {},
   "source": [
    "# story"
   ]
  },
  {
   "cell_type": "code",
   "execution_count": 11,
   "id": "ff9823ca-01f2-4765-b7fc-d0653f8cc794",
   "metadata": {},
   "outputs": [],
   "source": [
    "df = pd.read_csv(\"../data/interim/story.csv\")"
   ]
  },
  {
   "cell_type": "code",
   "execution_count": 12,
   "id": "6ff41d1e-54eb-4271-88b9-71b57718940f",
   "metadata": {},
   "outputs": [
    {
     "data": {
      "text/plain": [
       "(9903, 643)"
      ]
     },
     "execution_count": 12,
     "metadata": {},
     "output_type": "execute_result"
    }
   ],
   "source": [
    "df.shape"
   ]
  },
  {
   "cell_type": "code",
   "execution_count": 13,
   "id": "3c593817",
   "metadata": {},
   "outputs": [],
   "source": [
    "df.drop([\"Unnamed: 0\", \"poster_path\"], axis=1, inplace=True)"
   ]
  },
  {
   "cell_type": "code",
   "execution_count": 14,
   "id": "350bd5bc-220d-4651-8965-dcf0bd85c1a8",
   "metadata": {},
   "outputs": [
    {
     "data": {
      "text/html": [
       "<div>\n",
       "<style scoped>\n",
       "    .dataframe tbody tr th:only-of-type {\n",
       "        vertical-align: middle;\n",
       "    }\n",
       "\n",
       "    .dataframe tbody tr th {\n",
       "        vertical-align: top;\n",
       "    }\n",
       "\n",
       "    .dataframe thead th {\n",
       "        text-align: right;\n",
       "    }\n",
       "</style>\n",
       "<table border=\"1\" class=\"dataframe\">\n",
       "  <thead>\n",
       "    <tr style=\"text-align: right;\">\n",
       "      <th></th>\n",
       "      <th>adult</th>\n",
       "      <th>budget</th>\n",
       "      <th>id</th>\n",
       "      <th>origin_country</th>\n",
       "      <th>original_language</th>\n",
       "      <th>popularity</th>\n",
       "      <th>production_companies</th>\n",
       "      <th>production_countries</th>\n",
       "      <th>revenue</th>\n",
       "      <th>runtime</th>\n",
       "      <th>...</th>\n",
       "      <th>wife_over</th>\n",
       "      <th>win_over</th>\n",
       "      <th>with_over</th>\n",
       "      <th>woman_over</th>\n",
       "      <th>women_over</th>\n",
       "      <th>work_over</th>\n",
       "      <th>world_over</th>\n",
       "      <th>year_over</th>\n",
       "      <th>york_over</th>\n",
       "      <th>young_over</th>\n",
       "    </tr>\n",
       "  </thead>\n",
       "  <tbody>\n",
       "    <tr>\n",
       "      <th>0</th>\n",
       "      <td>False</td>\n",
       "      <td>45000000.0</td>\n",
       "      <td>1011477</td>\n",
       "      <td>['US']</td>\n",
       "      <td>en</td>\n",
       "      <td>750.3586</td>\n",
       "      <td>[{'id': 5, 'logo_path': '/71BqEFAF4V3qjjMPCpLu...</td>\n",
       "      <td>[{'iso_3166_1': 'US', 'name': 'United States o...</td>\n",
       "      <td>104560790</td>\n",
       "      <td>94</td>\n",
       "      <td>...</td>\n",
       "      <td>0.0</td>\n",
       "      <td>0.0</td>\n",
       "      <td>0.0</td>\n",
       "      <td>0.0</td>\n",
       "      <td>0.0</td>\n",
       "      <td>0.0</td>\n",
       "      <td>0.0</td>\n",
       "      <td>0.0</td>\n",
       "      <td>0.216504</td>\n",
       "      <td>0.0</td>\n",
       "    </tr>\n",
       "  </tbody>\n",
       "</table>\n",
       "<p>1 rows × 641 columns</p>\n",
       "</div>"
      ],
      "text/plain": [
       "   adult      budget       id origin_country original_language  popularity  \\\n",
       "0  False  45000000.0  1011477         ['US']                en    750.3586   \n",
       "\n",
       "                                production_companies  \\\n",
       "0  [{'id': 5, 'logo_path': '/71BqEFAF4V3qjjMPCpLu...   \n",
       "\n",
       "                                production_countries    revenue  runtime  ...  \\\n",
       "0  [{'iso_3166_1': 'US', 'name': 'United States o...  104560790       94  ...   \n",
       "\n",
       "  wife_over win_over with_over  woman_over  women_over  work_over world_over  \\\n",
       "0       0.0      0.0       0.0         0.0         0.0        0.0        0.0   \n",
       "\n",
       "  year_over york_over  young_over  \n",
       "0       0.0  0.216504         0.0  \n",
       "\n",
       "[1 rows x 641 columns]"
      ]
     },
     "execution_count": 14,
     "metadata": {},
     "output_type": "execute_result"
    }
   ],
   "source": [
    "df.head(1)"
   ]
  },
  {
   "cell_type": "code",
   "execution_count": 15,
   "id": "19d2a98d-c4bd-4bf8-9658-ca5d7bc9257a",
   "metadata": {},
   "outputs": [],
   "source": [
    "story = df.drop(\n",
    "    [\n",
    "        \"budget\",\n",
    "        \"adult\",\n",
    "        \"id\",\n",
    "        \"credits\",\n",
    "        \"origin_country\",\n",
    "        \"revenue\",\n",
    "        \"cast\",\n",
    "        \"crew\",\n",
    "        \"production_companies\",\n",
    "        \"popularity\",\n",
    "        \"status\",\n",
    "        \"title\",\n",
    "        \"video\",\n",
    "        \"vote_average\",\n",
    "        \"vote_count\",\n",
    "        \"hit/flop\",\n",
    "        \"profit_per\",\n",
    "        \"box-off\",\n",
    "        \"runtime\",\n",
    "        \"original_language\",\n",
    "        \"production_countries\",\n",
    "        \"spoken_languages\",\n",
    "    ],\n",
    "    axis=1,\n",
    ")"
   ]
  },
  {
   "cell_type": "code",
   "execution_count": 8,
   "id": "c56b3799-01fb-48ea-9179-2b6cc8f051bf",
   "metadata": {},
   "outputs": [
    {
     "data": {
      "text/plain": [
       "(9903, 619)"
      ]
     },
     "execution_count": 8,
     "metadata": {},
     "output_type": "execute_result"
    }
   ],
   "source": [
    "story.shape"
   ]
  },
  {
   "cell_type": "code",
   "execution_count": 9,
   "id": "83c7efda-c131-414c-935b-7f11cf81eb1f",
   "metadata": {},
   "outputs": [],
   "source": [
    "X = story.values"
   ]
  },
  {
   "cell_type": "code",
   "execution_count": null,
   "id": "c8ecab7d-2f22-4716-a7a3-95f0b48c9bca",
   "metadata": {},
   "outputs": [
    {
     "data": {
      "text/plain": [
       "1991    The Wandering Earth II\n",
       "3442            Monster Hunter\n",
       "4464            Monster High 2\n",
       "7851          Heavy Metal 2000\n",
       "9883                     Krull\n",
       "Name: title, dtype: object"
      ]
     },
     "execution_count": 10,
     "metadata": {},
     "output_type": "execute_result"
    }
   ],
   "source": [
    "from sklearn.metrics.pairwise import cosine_similarity\n",
    "\n",
    "similarity = cosine_similarity(X)"
   ]
  },
  {
   "cell_type": "code",
   "execution_count": 2,
   "id": "6a40061c",
   "metadata": {},
   "outputs": [],
   "source": [
    "import pickle\n",
    "\n",
    "similarity=None\n",
    "with open(\"../models/story.pkl\", \"rb\") as f:\n",
    "    similarity=pickle.load(f)"
   ]
  },
  {
   "cell_type": "code",
   "execution_count": 9,
   "id": "1faf05e4",
   "metadata": {},
   "outputs": [],
   "source": [
    "# this similarity matrix is very large file so instead of storing it i am going to store only top 5 matching index for each movie\n",
    "\n",
    "new_simi=[[] for i in range(len(similarity))]\n",
    "for i in range(len(similarity)):\n",
    "    new_simi[i]=np.argsort(similarity[i])[::-1][1:6]"
   ]
  },
  {
   "cell_type": "code",
   "execution_count": 22,
   "id": "b4d94455",
   "metadata": {},
   "outputs": [
    {
     "data": {
      "text/plain": [
       "1991    The Wandering Earth II\n",
       "3442            Monster Hunter\n",
       "4464            Monster High 2\n",
       "7851          Heavy Metal 2000\n",
       "9883                     Krull\n",
       "Name: title, dtype: object"
      ]
     },
     "execution_count": 22,
     "metadata": {},
     "output_type": "execute_result"
    }
   ],
   "source": [
    "def Recommend(movie):\n",
    "    index = df[df[\"title\"] == movie].index[0]\n",
    "    top5 = np.array(new_simi[index])\n",
    "    return df[df.index.isin(top5)][\"title\"]\n",
    "\n",
    "\n",
    "Recommend(\"Avatar\")"
   ]
  },
  {
   "cell_type": "code",
   "execution_count": 24,
   "id": "2c6e8474-25b9-453a-b61d-2755d5fd05d6",
   "metadata": {},
   "outputs": [],
   "source": [
    "import pickle\n",
    "\n",
    "with open(\"../models/story.pkl\", \"wb\") as f:\n",
    "    pickle.dump(new_simi, f)"
   ]
  },
  {
   "cell_type": "markdown",
   "id": "05189904-fec8-4b9d-9663-46fed8abe954",
   "metadata": {},
   "source": [
    "# Cast and crew"
   ]
  },
  {
   "cell_type": "code",
   "execution_count": 25,
   "id": "797ced9d-f9d1-40f0-a082-9c5d672ab656",
   "metadata": {},
   "outputs": [],
   "source": [
    "df = pd.read_csv(\"../data/interim/cast.csv\")"
   ]
  },
  {
   "cell_type": "code",
   "execution_count": 26,
   "id": "bce8cf04-3f3d-4f69-bc93-91a07847c175",
   "metadata": {},
   "outputs": [
    {
     "data": {
      "text/html": [
       "<div>\n",
       "<style scoped>\n",
       "    .dataframe tbody tr th:only-of-type {\n",
       "        vertical-align: middle;\n",
       "    }\n",
       "\n",
       "    .dataframe tbody tr th {\n",
       "        vertical-align: top;\n",
       "    }\n",
       "\n",
       "    .dataframe thead th {\n",
       "        text-align: right;\n",
       "    }\n",
       "</style>\n",
       "<table border=\"1\" class=\"dataframe\">\n",
       "  <thead>\n",
       "    <tr style=\"text-align: right;\">\n",
       "      <th></th>\n",
       "      <th>Unnamed: 0</th>\n",
       "      <th>adult</th>\n",
       "      <th>budget</th>\n",
       "      <th>genres</th>\n",
       "      <th>id</th>\n",
       "      <th>origin_country</th>\n",
       "      <th>original_language</th>\n",
       "      <th>original_title</th>\n",
       "      <th>overview</th>\n",
       "      <th>popularity</th>\n",
       "      <th>...</th>\n",
       "      <th>Krista Bell</th>\n",
       "      <th>Mary Jo Lang</th>\n",
       "      <th>Chad Stahelski</th>\n",
       "      <th>James Wan</th>\n",
       "      <th>Terri Taylor</th>\n",
       "      <th>Chris O'Hara</th>\n",
       "      <th>David James</th>\n",
       "      <th>Donna Evans</th>\n",
       "      <th>Janet Brady</th>\n",
       "      <th>Scott Curtis</th>\n",
       "    </tr>\n",
       "  </thead>\n",
       "  <tbody>\n",
       "    <tr>\n",
       "      <th>0</th>\n",
       "      <td>0</td>\n",
       "      <td>False</td>\n",
       "      <td>45000000.0</td>\n",
       "      <td>[{'id': 28, 'name': 'Action'}, {'id': 12, 'nam...</td>\n",
       "      <td>1011477</td>\n",
       "      <td>['US']</td>\n",
       "      <td>en</td>\n",
       "      <td>Karate Kid: Legends</td>\n",
       "      <td>After a family tragedy, kung fu prodigy Li Fon...</td>\n",
       "      <td>750.3586</td>\n",
       "      <td>...</td>\n",
       "      <td>0</td>\n",
       "      <td>0</td>\n",
       "      <td>0</td>\n",
       "      <td>0</td>\n",
       "      <td>0</td>\n",
       "      <td>0</td>\n",
       "      <td>0</td>\n",
       "      <td>0</td>\n",
       "      <td>0</td>\n",
       "      <td>0</td>\n",
       "    </tr>\n",
       "  </tbody>\n",
       "</table>\n",
       "<p>1 rows × 524 columns</p>\n",
       "</div>"
      ],
      "text/plain": [
       "   Unnamed: 0  adult      budget  \\\n",
       "0           0  False  45000000.0   \n",
       "\n",
       "                                              genres       id origin_country  \\\n",
       "0  [{'id': 28, 'name': 'Action'}, {'id': 12, 'nam...  1011477         ['US']   \n",
       "\n",
       "  original_language       original_title  \\\n",
       "0                en  Karate Kid: Legends   \n",
       "\n",
       "                                            overview  popularity  ...  \\\n",
       "0  After a family tragedy, kung fu prodigy Li Fon...    750.3586  ...   \n",
       "\n",
       "  Krista Bell Mary Jo Lang  Chad Stahelski  James Wan Terri Taylor  \\\n",
       "0           0            0               0          0            0   \n",
       "\n",
       "  Chris O'Hara David James Donna Evans  Janet Brady  Scott Curtis  \n",
       "0            0           0           0            0             0  \n",
       "\n",
       "[1 rows x 524 columns]"
      ]
     },
     "execution_count": 26,
     "metadata": {},
     "output_type": "execute_result"
    }
   ],
   "source": [
    "df.head(1)"
   ]
  },
  {
   "cell_type": "code",
   "execution_count": 27,
   "id": "7201ed41-57a5-4659-8a41-470d4b64916a",
   "metadata": {},
   "outputs": [],
   "source": [
    "cast = df.drop(\n",
    "    [\n",
    "        \"budget\",\n",
    "        \"adult\",\n",
    "        \"id\",\n",
    "        \"revenue\",\n",
    "        \"title\",\n",
    "        \"video\",\n",
    "        \"credits\",\n",
    "        \"genres\",\n",
    "        \"origin_country\",\n",
    "        \"keywords\",\n",
    "        \"spoken_languages\",\n",
    "        \"original_title\",\n",
    "        \"overview\",\n",
    "        \"popularity\",\n",
    "        \"status\",\n",
    "        \"vote_average\",\n",
    "        \"vote_count\",\n",
    "        \"hit/flop\",\n",
    "        \"profit_per\",\n",
    "        \"box-off\",\n",
    "        \"tagline\",\n",
    "        \"runtime\",\n",
    "        \"poster_path\",\n",
    "        \"release_date\",\n",
    "        \"original_language\",\n",
    "        \"Unnamed: 0\",\n",
    "    ],\n",
    "    axis=1,\n",
    ")"
   ]
  },
  {
   "cell_type": "code",
   "execution_count": 28,
   "id": "bffa0264-c2bd-4317-ac17-8d55bb1d5b26",
   "metadata": {},
   "outputs": [],
   "source": [
    "X = cast.values"
   ]
  },
  {
   "cell_type": "code",
   "execution_count": null,
   "id": "4df08218-0688-4a5a-ae73-fe9ba7582dd5",
   "metadata": {},
   "outputs": [
    {
     "data": {
      "text/plain": [
       "244     Avatar: The Way of Water\n",
       "741                       Aliens\n",
       "5942        Dragonball Evolution\n",
       "7025                   Australia\n",
       "7558         The Absence of Eden\n",
       "Name: title, dtype: object"
      ]
     },
     "execution_count": 49,
     "metadata": {},
     "output_type": "execute_result"
    }
   ],
   "source": [
    "from sklearn.metrics.pairwise import cosine_similarity\n",
    "\n",
    "similarity = cosine_similarity(X)"
   ]
  },
  {
   "cell_type": "code",
   "execution_count": 44,
   "id": "4d0bbd0d",
   "metadata": {},
   "outputs": [],
   "source": [
    "# this similarity matrix is very large file so instead of storing it i am going to store only top 5 matching index for each movie\n",
    "\n",
    "new_simi=[[] for i in range(len(similarity))]\n",
    "for i in range(len(similarity)):\n",
    "    new_simi[i]=np.argsort(similarity[i])[::-1][1:6]"
   ]
  },
  {
   "cell_type": "code",
   "execution_count": 45,
   "id": "d37ec6e2",
   "metadata": {},
   "outputs": [
    {
     "data": {
      "text/plain": [
       "244     Avatar: The Way of Water\n",
       "741                       Aliens\n",
       "5942        Dragonball Evolution\n",
       "7025                   Australia\n",
       "7558         The Absence of Eden\n",
       "Name: title, dtype: object"
      ]
     },
     "execution_count": 45,
     "metadata": {},
     "output_type": "execute_result"
    }
   ],
   "source": [
    "def Recommend(movie):\n",
    "    index = df[df[\"title\"] == movie].index[0]\n",
    "    top5 = np.array(new_simi[index])\n",
    "    return df[df.index.isin(top5)][\"title\"]\n",
    "\n",
    "\n",
    "Recommend(\"Avatar\")"
   ]
  },
  {
   "cell_type": "code",
   "execution_count": 46,
   "id": "05f9d794-3cdc-4e4a-9fe7-25282e970706",
   "metadata": {},
   "outputs": [],
   "source": [
    "import pickle\n",
    "\n",
    "with open(\"../models/cast.pkl\", \"wb\") as f:\n",
    "    pickle.dump(new_simi, f)"
   ]
  },
  {
   "cell_type": "markdown",
   "id": "741e7a65-3d29-49c1-9d10-f95e165b8dde",
   "metadata": {},
   "source": [
    "# Scale"
   ]
  },
  {
   "cell_type": "code",
   "execution_count": 33,
   "id": "1e26c223-9250-4478-ab2b-2484bd4f6b58",
   "metadata": {},
   "outputs": [],
   "source": [
    "df = pd.read_csv(\"../data/interim/scale.csv\")"
   ]
  },
  {
   "cell_type": "code",
   "execution_count": 34,
   "id": "b2755783-70d5-4ef7-9176-b8d4b0ef958f",
   "metadata": {},
   "outputs": [],
   "source": [
    "scale = df.drop(\n",
    "    [\n",
    "        \"id\",\n",
    "        \"genres\",\n",
    "        \"adult\",\n",
    "        \"origin_country\",\n",
    "        \"spoken_languages\",\n",
    "        \"original_title\",\n",
    "        \"overview\",\n",
    "        \"status\",\n",
    "        \"release_date\",\n",
    "        \"production_companies\",\n",
    "        \"production_countries\",\n",
    "        \"tagline\",\n",
    "        \"title\",\n",
    "        \"video\",\n",
    "        \"runtime\",\n",
    "        \"original_language\",\n",
    "        \"credits\",\n",
    "        \"keywords\",\n",
    "        \"Unnamed: 0\",\n",
    "        \"poster_path\",\n",
    "        \"cast\",\n",
    "        \"crew\",\n",
    "    ],\n",
    "    axis=1,\n",
    ")"
   ]
  },
  {
   "cell_type": "code",
   "execution_count": 35,
   "id": "806962d0",
   "metadata": {},
   "outputs": [
    {
     "data": {
      "text/plain": [
       "Index(['budget', 'popularity', 'revenue', 'vote_average', 'vote_count',\n",
       "       'box-off', 'hit/flop', 'profit_per'],\n",
       "      dtype='object')"
      ]
     },
     "execution_count": 35,
     "metadata": {},
     "output_type": "execute_result"
    }
   ],
   "source": [
    "scale.columns"
   ]
  },
  {
   "cell_type": "code",
   "execution_count": 36,
   "id": "d133f290-b38a-4d36-99c8-4bc7fbdc48c5",
   "metadata": {},
   "outputs": [
    {
     "data": {
      "text/html": [
       "<div>\n",
       "<style scoped>\n",
       "    .dataframe tbody tr th:only-of-type {\n",
       "        vertical-align: middle;\n",
       "    }\n",
       "\n",
       "    .dataframe tbody tr th {\n",
       "        vertical-align: top;\n",
       "    }\n",
       "\n",
       "    .dataframe thead th {\n",
       "        text-align: right;\n",
       "    }\n",
       "</style>\n",
       "<table border=\"1\" class=\"dataframe\">\n",
       "  <thead>\n",
       "    <tr style=\"text-align: right;\">\n",
       "      <th></th>\n",
       "      <th>budget</th>\n",
       "      <th>popularity</th>\n",
       "      <th>revenue</th>\n",
       "      <th>vote_average</th>\n",
       "      <th>vote_count</th>\n",
       "      <th>box-off</th>\n",
       "      <th>hit/flop</th>\n",
       "      <th>profit_per</th>\n",
       "    </tr>\n",
       "  </thead>\n",
       "  <tbody>\n",
       "    <tr>\n",
       "      <th>0</th>\n",
       "      <td>4.500000e+07</td>\n",
       "      <td>750.3586</td>\n",
       "      <td>104560790</td>\n",
       "      <td>7.281</td>\n",
       "      <td>367</td>\n",
       "      <td>5.956079e+07</td>\n",
       "      <td>hit</td>\n",
       "      <td>132.357311</td>\n",
       "    </tr>\n",
       "    <tr>\n",
       "      <th>1</th>\n",
       "      <td>9.000000e+07</td>\n",
       "      <td>465.3293</td>\n",
       "      <td>131611905</td>\n",
       "      <td>7.453</td>\n",
       "      <td>944</td>\n",
       "      <td>4.161190e+07</td>\n",
       "      <td>hit</td>\n",
       "      <td>46.235450</td>\n",
       "    </tr>\n",
       "    <tr>\n",
       "      <th>2</th>\n",
       "      <td>2.250000e+08</td>\n",
       "      <td>498.0608</td>\n",
       "      <td>217000000</td>\n",
       "      <td>7.470</td>\n",
       "      <td>538</td>\n",
       "      <td>-8.000000e+06</td>\n",
       "      <td>flop</td>\n",
       "      <td>-3.555556</td>\n",
       "    </tr>\n",
       "    <tr>\n",
       "      <th>3</th>\n",
       "      <td>3.873155e+07</td>\n",
       "      <td>438.9744</td>\n",
       "      <td>0</td>\n",
       "      <td>7.015</td>\n",
       "      <td>97</td>\n",
       "      <td>-3.873155e+07</td>\n",
       "      <td>flop</td>\n",
       "      <td>-100.000000</td>\n",
       "    </tr>\n",
       "    <tr>\n",
       "      <th>4</th>\n",
       "      <td>3.873155e+07</td>\n",
       "      <td>425.9085</td>\n",
       "      <td>0</td>\n",
       "      <td>5.089</td>\n",
       "      <td>29</td>\n",
       "      <td>-3.873155e+07</td>\n",
       "      <td>flop</td>\n",
       "      <td>-100.000000</td>\n",
       "    </tr>\n",
       "  </tbody>\n",
       "</table>\n",
       "</div>"
      ],
      "text/plain": [
       "         budget  popularity    revenue  vote_average  vote_count  \\\n",
       "0  4.500000e+07    750.3586  104560790         7.281         367   \n",
       "1  9.000000e+07    465.3293  131611905         7.453         944   \n",
       "2  2.250000e+08    498.0608  217000000         7.470         538   \n",
       "3  3.873155e+07    438.9744          0         7.015          97   \n",
       "4  3.873155e+07    425.9085          0         5.089          29   \n",
       "\n",
       "        box-off hit/flop  profit_per  \n",
       "0  5.956079e+07      hit  132.357311  \n",
       "1  4.161190e+07      hit   46.235450  \n",
       "2 -8.000000e+06     flop   -3.555556  \n",
       "3 -3.873155e+07     flop -100.000000  \n",
       "4 -3.873155e+07     flop -100.000000  "
      ]
     },
     "execution_count": 36,
     "metadata": {},
     "output_type": "execute_result"
    }
   ],
   "source": [
    "scale.head()"
   ]
  },
  {
   "cell_type": "code",
   "execution_count": 37,
   "id": "a979157a-49ca-4740-9e34-c9c78eb18d05",
   "metadata": {},
   "outputs": [],
   "source": [
    "scale[\"budget\"] = scale[\"budget\"] / 1000000\n",
    "scale[\"revenue\"] = scale[\"revenue\"] / 1000000\n",
    "scale[\"box-off\"] = scale[\"box-off\"] / 1000000"
   ]
  },
  {
   "cell_type": "code",
   "execution_count": 38,
   "id": "721dee99-fd4a-49d7-a8b7-87a380c64dd8",
   "metadata": {},
   "outputs": [],
   "source": [
    "from sklearn.compose import ColumnTransformer\n",
    "from sklearn.preprocessing import (\n",
    "    StandardScaler,\n",
    "    MinMaxScaler,\n",
    "    OneHotEncoder,\n",
    "    OrdinalEncoder,\n",
    ")\n",
    "\n",
    "cf = ColumnTransformer(\n",
    "    transformers=[\n",
    "        (\"ORencoding\", OrdinalEncoder(), [\"hit/flop\"]),\n",
    "        (\n",
    "            \"std\",\n",
    "            StandardScaler(),\n",
    "            [\n",
    "                \"budget\",\n",
    "                \"popularity\",\n",
    "                \"revenue\",\n",
    "                \"vote_average\",\n",
    "                \"vote_average\",\n",
    "                \"box-off\",\n",
    "                \"profit_per\",\n",
    "            ],\n",
    "        ),\n",
    "    ],\n",
    "    remainder=\"passthrough\",\n",
    ")"
   ]
  },
  {
   "cell_type": "code",
   "execution_count": 15,
   "id": "5a9e49f2-a12f-4fe5-b7be-5e414dc53ba5",
   "metadata": {},
   "outputs": [],
   "source": [
    "from sklearn.pipeline import Pipeline\n",
    "\n",
    "ppl = Pipeline([(\"std\", cf)])\n",
    "X = ppl.fit_transform(scale)"
   ]
  },
  {
   "cell_type": "code",
   "execution_count": null,
   "id": "18520127-0eac-4c39-9b43-ef8a825b7a76",
   "metadata": {},
   "outputs": [],
   "source": [
    "from sklearn.metrics.pairwise import cosine_similarity\n",
    "\n",
    "similarity = cosine_similarity(X)"
   ]
  },
  {
   "cell_type": "code",
   "execution_count": null,
   "id": "ed6951ba",
   "metadata": {},
   "outputs": [],
   "source": [
    "# this similarity matrix is very large file so instead of storing it i am going to store only top 5 matching index for each movie\n",
    "\n",
    "# similarity size = 750+ MB new_simi size=684KB\n",
    " \n",
    "new_simi=[[] for i in range(len(similarity))]\n",
    "for i in range(len(similarity)):\n",
    "    new_simi[i]=np.argsort(similarity[i])[::-1][1:6]"
   ]
  },
  {
   "cell_type": "code",
   "execution_count": 49,
   "id": "596a5766",
   "metadata": {},
   "outputs": [
    {
     "data": {
      "text/plain": [
       "152                  Inception\n",
       "210                   Iron Man\n",
       "229    The Wolf of Wall Street\n",
       "295                  Gladiator\n",
       "949             Now You See Me\n",
       "Name: title, dtype: object"
      ]
     },
     "execution_count": 49,
     "metadata": {},
     "output_type": "execute_result"
    }
   ],
   "source": [
    "def Recommend(movie):\n",
    "    index = df[df[\"title\"] == movie].index[0]\n",
    "    top5 = np.array(new_simi[index])\n",
    "    return df[df.index.isin(top5)][\"title\"]\n",
    "\n",
    "\n",
    "Recommend(\"Interstellar\")"
   ]
  },
  {
   "cell_type": "code",
   "execution_count": 50,
   "id": "6e84acc4-7ad7-45ba-88a2-99daf3372e1c",
   "metadata": {},
   "outputs": [],
   "source": [
    "import pickle\n",
    "\n",
    "with open(\"../models/scale.pkl\", \"wb\") as f:\n",
    "    pickle.dump(new_simi, f)"
   ]
  }
 ],
 "metadata": {
  "kernelspec": {
   "display_name": "Python (ml)",
   "language": "python",
   "name": "ml"
  },
  "language_info": {
   "codemirror_mode": {
    "name": "ipython",
    "version": 3
   },
   "file_extension": ".py",
   "mimetype": "text/x-python",
   "name": "python",
   "nbconvert_exporter": "python",
   "pygments_lexer": "ipython3",
   "version": "3.13.3"
  }
 },
 "nbformat": 4,
 "nbformat_minor": 5
}
