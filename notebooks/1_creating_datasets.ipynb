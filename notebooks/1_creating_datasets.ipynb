{
 "cells": [
  {
   "cell_type": "code",
   "execution_count": 1,
   "id": "85ceabb3",
   "metadata": {},
   "outputs": [],
   "source": [
    "import numpy as np\n",
    "import pandas as pd\n",
    "import ast\n",
    "import warnings\n",
    "from tqdm import tqdm\n",
    "\n",
    "warnings.filterwarnings(\"ignore\")"
   ]
  },
  {
   "cell_type": "code",
   "execution_count": 2,
   "id": "742d3c16",
   "metadata": {},
   "outputs": [],
   "source": [
    "def genre(txt):\n",
    "    txt = ast.literal_eval(txt)\n",
    "    ans = []\n",
    "    for i in txt:\n",
    "        ans.append(i[\"name\"])\n",
    "    return ans"
   ]
  },
  {
   "cell_type": "code",
   "execution_count": 3,
   "id": "13b6352b",
   "metadata": {},
   "outputs": [],
   "source": [
    "def cast(txt):\n",
    "    ans = []\n",
    "    for i in txt:\n",
    "        ans.append(i[\"name\"])\n",
    "    return ans"
   ]
  },
  {
   "cell_type": "code",
   "execution_count": 4,
   "id": "507432fa",
   "metadata": {},
   "outputs": [],
   "source": [
    "def keywords(txt):\n",
    "    k = ast.literal_eval(txt)\n",
    "    ans = []\n",
    "    for i in k[\"keywords\"]:\n",
    "        ans.append(i[\"name\"])\n",
    "    return ans"
   ]
  },
  {
   "cell_type": "code",
   "execution_count": 35,
   "id": "0011e3fc",
   "metadata": {},
   "outputs": [],
   "source": [
    "df = pd.read_csv(\"../data/interim/new_movies_full.csv\")"
   ]
  },
  {
   "cell_type": "code",
   "execution_count": 36,
   "id": "51253bf5",
   "metadata": {},
   "outputs": [],
   "source": [
    "def seprate(col_name, n=20, func=genre):\n",
    "    df[col_name] = df[col_name].apply(func)\n",
    "    dct = {}\n",
    "    for i in df[col_name].values:\n",
    "        for j in i:\n",
    "            dct[j] = dct.get(j, 0) + 1\n",
    "    sorted_comp = sorted(dct, key=lambda a: 1 / dct[a])[:n]\n",
    "    for i in tqdm(sorted_comp):\n",
    "        df[i] = df[col_name].apply(lambda x: 1 if i in x else 0)\n",
    "    df.drop(columns=[col_name], axis=1, inplace=True)"
   ]
  },
  {
   "cell_type": "markdown",
   "id": "5efa5856",
   "metadata": {},
   "source": [
    "# Creating dataset for story based recommendation"
   ]
  },
  {
   "cell_type": "code",
   "execution_count": 37,
   "id": "741bee1d",
   "metadata": {},
   "outputs": [],
   "source": [
    "df.fillna(\"\", inplace=True)"
   ]
  },
  {
   "cell_type": "code",
   "execution_count": 38,
   "id": "6c5f0ae2",
   "metadata": {},
   "outputs": [
    {
     "name": "stderr",
     "output_type": "stream",
     "text": [
      "[nltk_data] Downloading package stopwords to\n",
      "[nltk_data]     C:\\Users\\panka\\AppData\\Roaming\\nltk_data...\n",
      "[nltk_data]   Package stopwords is already up-to-date!\n"
     ]
    }
   ],
   "source": [
    "import string\n",
    "from nltk.stem.porter import PorterStemmer\n",
    "from nltk.corpus import stopwords\n",
    "import nltk\n",
    "\n",
    "punc = string.punctuation\n",
    "nltk.download(\"stopwords\")\n",
    "stpWrd = stopwords.words(\"english\")\n",
    "\n",
    "\n",
    "def preprocessText(txt):\n",
    "    new_txt = \"\"\n",
    "    for i in txt:\n",
    "        if i not in punc:\n",
    "            new_txt += i\n",
    "\n",
    "    ps = PorterStemmer()\n",
    "    new_txt2 = []\n",
    "    for word in new_txt.split():\n",
    "        if word not in stpWrd and word.isalnum():\n",
    "            new_txt2.append(ps.stem(word))\n",
    "\n",
    "    return \" \".join(new_txt2)\n",
    "\n",
    "\n",
    "df[\"original_title\"] = df[\"original_title\"].apply(preprocessText)\n",
    "df[\"tagline\"] = df[\"tagline\"].apply(preprocessText)\n",
    "df[\"overview\"] = df[\"overview\"].apply(preprocessText)"
   ]
  },
  {
   "cell_type": "code",
   "execution_count": 39,
   "id": "e8b69752",
   "metadata": {},
   "outputs": [
    {
     "name": "stderr",
     "output_type": "stream",
     "text": [
      "100%|██████████| 19/19 [00:00<00:00, 163.45it/s]\n"
     ]
    }
   ],
   "source": [
    "seprate(\"genres\")"
   ]
  },
  {
   "cell_type": "code",
   "execution_count": 40,
   "id": "11341656",
   "metadata": {},
   "outputs": [
    {
     "name": "stderr",
     "output_type": "stream",
     "text": [
      "100%|██████████| 100/100 [00:00<00:00, 142.89it/s]\n"
     ]
    }
   ],
   "source": [
    "seprate(\"keywords\", 100, keywords)"
   ]
  },
  {
   "cell_type": "code",
   "execution_count": 41,
   "id": "adca3b5b",
   "metadata": {},
   "outputs": [],
   "source": [
    "from sklearn.feature_extraction.text import CountVectorizer\n",
    "from sklearn.feature_extraction.text import TfidfVectorizer\n",
    "\n",
    "tf1 = TfidfVectorizer(max_features=100)\n",
    "tf2 = TfidfVectorizer(max_features=100)\n",
    "tf3 = TfidfVectorizer(max_features=300)\n",
    "\n",
    "X_title = tf1.fit_transform(df[\"original_title\"])\n",
    "X_tagline = tf2.fit_transform(df[\"tagline\"])\n",
    "X_overview = tf3.fit_transform(df[\"overview\"])"
   ]
  },
  {
   "cell_type": "code",
   "execution_count": 42,
   "id": "385a65d8",
   "metadata": {},
   "outputs": [],
   "source": [
    "df = pd.concat(\n",
    "    [\n",
    "        df.reset_index(drop=True),\n",
    "        pd.DataFrame(X_title.toarray(), columns=tf1.get_feature_names_out() + \"_title\"),\n",
    "    ],\n",
    "    axis=1,\n",
    ")\n",
    "df = pd.concat(\n",
    "    [\n",
    "        df.reset_index(drop=True),\n",
    "        pd.DataFrame(\n",
    "            X_tagline.toarray(), columns=tf2.get_feature_names_out() + \"_tagline\"\n",
    "        ),\n",
    "    ],\n",
    "    axis=1,\n",
    ")\n",
    "df = pd.concat(\n",
    "    [\n",
    "        df.reset_index(drop=True),\n",
    "        pd.DataFrame(\n",
    "            X_overview.toarray(), columns=tf3.get_feature_names_out() + \"_over\"\n",
    "        ),\n",
    "    ],\n",
    "    axis=1,\n",
    ")"
   ]
  },
  {
   "cell_type": "code",
   "execution_count": 43,
   "id": "26fc3b16",
   "metadata": {},
   "outputs": [],
   "source": [
    "df.drop(columns=[\"original_title\", \"overview\", \"release_date\", \"tagline\"], inplace=True)"
   ]
  },
  {
   "cell_type": "code",
   "execution_count": 44,
   "id": "0af4b233",
   "metadata": {},
   "outputs": [],
   "source": [
    "df.to_csv(\"../data/interim/story.csv\")"
   ]
  },
  {
   "cell_type": "markdown",
   "id": "3dfbb93f",
   "metadata": {},
   "source": [
    "# Creating dataset for Cast and Crew based recommendation"
   ]
  },
  {
   "cell_type": "code",
   "execution_count": 23,
   "id": "a02586df",
   "metadata": {},
   "outputs": [],
   "source": [
    "df = pd.read_csv(\"../data/interim/new_movies_full.csv\")"
   ]
  },
  {
   "cell_type": "code",
   "execution_count": 24,
   "id": "8509a891",
   "metadata": {},
   "outputs": [
    {
     "name": "stderr",
     "output_type": "stream",
     "text": [
      "100%|██████████| 50/50 [00:00<00:00, 99.20it/s] \n"
     ]
    }
   ],
   "source": [
    "seprate(\"production_companies\", 50)"
   ]
  },
  {
   "cell_type": "code",
   "execution_count": 25,
   "id": "62d71191",
   "metadata": {},
   "outputs": [
    {
     "name": "stderr",
     "output_type": "stream",
     "text": [
      "100%|██████████| 50/50 [00:00<00:00, 116.09it/s]\n"
     ]
    }
   ],
   "source": [
    "seprate(\"production_countries\", 50)"
   ]
  },
  {
   "cell_type": "code",
   "execution_count": 26,
   "id": "59d2edaf",
   "metadata": {},
   "outputs": [
    {
     "name": "stderr",
     "output_type": "stream",
     "text": [
      "100%|██████████| 200/200 [00:05<00:00, 39.19it/s]\n"
     ]
    }
   ],
   "source": [
    "seprate(\"cast\", 200, genre)"
   ]
  },
  {
   "cell_type": "code",
   "execution_count": 27,
   "id": "1f3a4136",
   "metadata": {},
   "outputs": [
    {
     "name": "stderr",
     "output_type": "stream",
     "text": [
      "100%|██████████| 200/200 [00:10<00:00, 18.28it/s]\n"
     ]
    }
   ],
   "source": [
    "seprate(\"crew\", 200, genre)"
   ]
  },
  {
   "cell_type": "code",
   "execution_count": null,
   "id": "3841e002",
   "metadata": {},
   "outputs": [],
   "source": [
    "df.to_csv(\"../data/interim/cast.csv\")"
   ]
  },
  {
   "cell_type": "markdown",
   "id": "8a688aa1",
   "metadata": {},
   "source": [
    "# Creating dataset for Scale based recommendation"
   ]
  },
  {
   "cell_type": "code",
   "execution_count": 46,
   "id": "96ad4883",
   "metadata": {},
   "outputs": [],
   "source": [
    "df = pd.read_csv(\"../data/interim/new_movies_full.csv\")"
   ]
  },
  {
   "cell_type": "code",
   "execution_count": 47,
   "id": "fec75e93",
   "metadata": {},
   "outputs": [],
   "source": [
    "df.to_csv(\"../data/interim/scale.csv\")"
   ]
  },
  {
   "cell_type": "markdown",
   "id": "295a6e2a",
   "metadata": {},
   "source": [
    "# Creating dataset for using it in frontend for Recommend"
   ]
  },
  {
   "cell_type": "code",
   "execution_count": 64,
   "id": "73af2ff5",
   "metadata": {},
   "outputs": [],
   "source": [
    "df = pd.read_csv(\"../data/interim/new_movies_full.csv\")"
   ]
  },
  {
   "cell_type": "code",
   "execution_count": 65,
   "id": "ff3c05d6",
   "metadata": {},
   "outputs": [],
   "source": [
    "df[\"release_date\"] = pd.to_datetime(df[\"release_date\"])\n",
    "df[\"release_year\"] = df[\"release_date\"].dt.year\n",
    "df[\"release_day\"] = df[\"release_date\"].dt.day_name()\n",
    "df[\"release_month\"] = df[\"release_date\"].dt.month_name()"
   ]
  },
  {
   "cell_type": "code",
   "execution_count": 66,
   "id": "57f3c5f5",
   "metadata": {},
   "outputs": [
    {
     "name": "stderr",
     "output_type": "stream",
     "text": [
      "100%|██████████| 19/19 [00:00<00:00, 174.73it/s]\n"
     ]
    }
   ],
   "source": [
    "seprate(\"genres\")"
   ]
  },
  {
   "cell_type": "code",
   "execution_count": 67,
   "id": "180e15c3",
   "metadata": {},
   "outputs": [
    {
     "name": "stderr",
     "output_type": "stream",
     "text": [
      "100%|██████████| 50/50 [00:00<00:00, 136.37it/s]\n"
     ]
    }
   ],
   "source": [
    "seprate(\"keywords\", 50, keywords)"
   ]
  },
  {
   "cell_type": "code",
   "execution_count": 68,
   "id": "a23dbda5",
   "metadata": {},
   "outputs": [
    {
     "name": "stderr",
     "output_type": "stream",
     "text": [
      "100%|██████████| 50/50 [00:00<00:00, 178.68it/s]\n"
     ]
    }
   ],
   "source": [
    "seprate(\"production_companies\", 50)"
   ]
  },
  {
   "cell_type": "code",
   "execution_count": 69,
   "id": "818371b9",
   "metadata": {},
   "outputs": [
    {
     "name": "stderr",
     "output_type": "stream",
     "text": [
      "100%|██████████| 50/50 [00:00<00:00, 176.85it/s]\n"
     ]
    }
   ],
   "source": [
    "seprate(\"production_countries\", 50)"
   ]
  },
  {
   "cell_type": "code",
   "execution_count": 70,
   "id": "d80f5c24",
   "metadata": {},
   "outputs": [
    {
     "name": "stderr",
     "output_type": "stream",
     "text": [
      "100%|██████████| 20/20 [00:00<00:00, 213.19it/s]\n"
     ]
    }
   ],
   "source": [
    "seprate(\"spoken_languages\", 20)"
   ]
  },
  {
   "cell_type": "code",
   "execution_count": 71,
   "id": "101ad587",
   "metadata": {},
   "outputs": [
    {
     "name": "stderr",
     "output_type": "stream",
     "text": [
      "100%|██████████| 50/50 [00:00<00:00, 61.60it/s]\n"
     ]
    }
   ],
   "source": [
    "seprate(\"cast\", 50, genre)"
   ]
  },
  {
   "cell_type": "code",
   "execution_count": 72,
   "id": "fbbc1ce0",
   "metadata": {},
   "outputs": [
    {
     "name": "stderr",
     "output_type": "stream",
     "text": [
      "100%|██████████| 50/50 [00:01<00:00, 31.22it/s]\n"
     ]
    }
   ],
   "source": [
    "seprate(\"crew\", 50, genre)"
   ]
  },
  {
   "cell_type": "code",
   "execution_count": null,
   "id": "2fc6e360",
   "metadata": {},
   "outputs": [],
   "source": [
    "df.to_csv(\"../data/processed/Frontend.csv\")"
   ]
  },
  {
   "cell_type": "markdown",
   "id": "126c4626",
   "metadata": {},
   "source": [
    "# Dataset to be used in backend"
   ]
  },
  {
   "cell_type": "code",
   "execution_count": 59,
   "id": "798bfdb0",
   "metadata": {},
   "outputs": [],
   "source": [
    "df = pd.read_csv(\"../data/interim/new_movies_full.csv\")"
   ]
  },
  {
   "cell_type": "code",
   "execution_count": 60,
   "id": "197b5825",
   "metadata": {},
   "outputs": [],
   "source": [
    "df[\"release_date\"] = pd.to_datetime(df[\"release_date\"])\n",
    "df[\"release_year\"] = df[\"release_date\"].dt.year"
   ]
  },
  {
   "cell_type": "code",
   "execution_count": 61,
   "id": "bc5fdc2e",
   "metadata": {},
   "outputs": [],
   "source": [
    "df = df[[\"release_year\", \"title\", \"poster_path\"]]"
   ]
  },
  {
   "cell_type": "code",
   "execution_count": 62,
   "id": "e9b223c4",
   "metadata": {},
   "outputs": [],
   "source": [
    "df.to_csv(\"../data/processed/backend.csv\")"
   ]
  }
 ],
 "metadata": {
  "kernelspec": {
   "display_name": "Python (ml)",
   "language": "python",
   "name": "ml"
  },
  "language_info": {
   "codemirror_mode": {
    "name": "ipython",
    "version": 3
   },
   "file_extension": ".py",
   "mimetype": "text/x-python",
   "name": "python",
   "nbconvert_exporter": "python",
   "pygments_lexer": "ipython3",
   "version": "3.13.3"
  }
 },
 "nbformat": 4,
 "nbformat_minor": 5
}
